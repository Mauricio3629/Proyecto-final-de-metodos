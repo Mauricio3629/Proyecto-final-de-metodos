{
 "cells": [
  {
   "cell_type": "code",
   "execution_count": 2,
   "metadata": {
    "collapsed": false
   },
   "outputs": [
    {
     "name": "stdout",
     "output_type": "stream",
     "text": [
      "La raíz es 7.36988\n",
      "Con 4 iteraciones.\n"
     ]
    }
   ],
   "source": [
    "def f(x):\n",
    "    return x**4 - 8.6*x**3 - 35.51*x**2 + 464*x - 998.46\n",
    "\n",
    "def f_der(x):\n",
    "    return 4*x**3 - 25.8*x**2 - 71.02*x + 464\n",
    "\n",
    "x0 = 7\n",
    "itera = 0\n",
    "for i in range (100):\n",
    "    itera += 1\n",
    "    xr = x0 - f(x0)/f_der(x0)\n",
    "    if abs(f(xr)) < .00001:\n",
    "        break\n",
    "    x0 = xr\n",
    "\n",
    "print(\"La raíz es %.5f\"%x0)\n",
    "print(\"Con %i iteraciones.\"%itera)"
   ]
  },
  {
   "cell_type": "code",
   "execution_count": 0,
   "metadata": {
    "collapsed": false
   },
   "outputs": [
   ],
   "source": [
   ]
  }
 ],
 "metadata": {
  "kernelspec": {
   "display_name": "Python 3 (Anaconda 5)",
   "language": "python",
   "name": "anaconda5"
  }
 },
 "nbformat": 4,
 "nbformat_minor": 0
}